{
 "cells": [
  {
   "cell_type": "markdown",
   "metadata": {},
   "source": [
    "# Modified Diffusion Entropy Analysis \n",
    "\n",
    "Garland Culbreth, Jacob Baxley, David Lambert.  \n",
    "Center for Nonlinear Science, University of North Texas.  \n",
    "\n",
    "Last update: 2021-07-22"
   ]
  },
  {
   "cell_type": "markdown",
   "metadata": {},
   "source": [
    "## Using this notebook\n",
    "___\n",
    "\n",
    " - All work should be done in the bottom code cell, the one labeled \"Work cell\". \n",
    " - Instructions and documentation etc. can be found in markdown cells or function docstrings."
   ]
  },
  {
   "cell_type": "code",
   "execution_count": 49,
   "metadata": {},
   "outputs": [],
   "source": [
    "import matplotlib.pyplot as plt\n",
    "import numpy as np\n",
    "import pandas as pd\n",
    "import seaborn as sns\n",
    "from tqdm import tqdm"
   ]
  },
  {
   "cell_type": "code",
   "execution_count": 50,
   "metadata": {},
   "outputs": [],
   "source": [
    "sns.set_theme(context=\"notebook\",\n",
    "              style=\"whitegrid\",\n",
    "              palette=\"deep\",\n",
    "              font_scale=1.2)"
   ]
  },
  {
   "cell_type": "markdown",
   "metadata": {},
   "source": [
    "## Load data\n",
    "---\n",
    "\n",
    "Load your data from a csv file into a Pandas DataFrame. For other filetypes, consult the Pandas documentation."
   ]
  },
  {
   "cell_type": "code",
   "execution_count": 51,
   "metadata": {},
   "outputs": [],
   "source": [
    "# file_path = \"D:\\\\Example\\\\File\\\\Path.csv\"\n",
    "# df = pd.read_csv(file_path)"
   ]
  },
  {
   "cell_type": "markdown",
   "metadata": {},
   "source": [
    "## Sample data\n",
    "---\n",
    "\n",
    "Generator for a simple Random Walk, for testing purposes. If you have no data use this to generate some. Also provides a baseline to test against."
   ]
  },
  {
   "cell_type": "code",
   "execution_count": 52,
   "metadata": {},
   "outputs": [],
   "source": [
    "def sample_data(length):\n",
    "    \"\"\"Generates an array of sample data.\"\"\"\n",
    "    np.random.seed(1010)  # for baseline consistency\n",
    "    random_steps = np.random.choice([-1, 1], length)\n",
    "    random_steps[0] = 0  # always start from 0\n",
    "    random_walk = np.cumsum(random_steps)\n",
    "    return random_walk"
   ]
  },
  {
   "cell_type": "code",
   "execution_count": 53,
   "metadata": {},
   "outputs": [
    {
     "data": {
      "image/png": "[encoded data removed]",
      "text/plain": [
       "<Figure size 360x288 with 1 Axes>"
      ]
     },
     "metadata": {},
     "output_type": "display_data"
    }
   ],
   "source": [
    "some_data = sample_data(10000)\n",
    "\n",
    "f, ax = plt.subplots(figsize=(5, 4))\n",
    "ax.plot(some_data)\n",
    "ax.set_xlabel('t')\n",
    "ax.set_ylabel('x(t)')\n",
    "ax.grid(True)\n",
    "sns.despine(left=True, bottom=True)\n",
    "plt.show()"
   ]
  },
  {
   "cell_type": "markdown",
   "metadata": {},
   "source": [
    "## Functions\n",
    "---\n",
    "Will move all of these into a separate script file at a later date..."
   ]
  },
  {
   "cell_type": "code",
   "execution_count": 54,
   "metadata": {},
   "outputs": [],
   "source": [
    "def apply_stripes(data, stripes, show_plot): \n",
    "    \"\"\"\n",
    "    Rounds `data` to `stripes` evenly spaced intervals.\n",
    "\n",
    "    Parameters\n",
    "    ----------\n",
    "    data : array_like\n",
    "        Time-series data to be examined.\n",
    "    stripes : int\n",
    "        Number of stripes to apply. \n",
    "    show_plot : bool\n",
    "        If True, show data plot with overlaid stripes.\n",
    "\n",
    "    Returns\n",
    "    ----------\n",
    "    rounded_data : ndarray\n",
    "        `data` rounded to `stripes` number of equally spaced intervals.\n",
    "    \"\"\"\n",
    "    \n",
    "    if show_plot == True:\n",
    "        lines = np.linspace(min(data), max(data), num=stripes)\n",
    "        plt.figure(figsize=(5, 4))\n",
    "        plt.plot(data)\n",
    "        plt.hlines(y=lines, xmin=0, xmax=len(data), colors='0.3', linewidths=1, alpha=0.4)\n",
    "        plt.xlabel('t')\n",
    "        plt.ylabel('Data(t)')\n",
    "        plt.title('Data with stripes')\n",
    "        sns.despine()\n",
    "        plt.show()\n",
    "    \n",
    "    if min(data) <= 0:\n",
    "        data = data + abs(min(data))\n",
    "    elif min(data) > 0:\n",
    "        data = data - abs(min(data))\n",
    "    max_data = max(data)\n",
    "    min_data = min(data)\n",
    "    data_width = abs(max_data - min_data)\n",
    "    stripe_size = data_width / stripes\n",
    "    rounded_data = data / stripe_size\n",
    "    return rounded_data"
   ]
  },
  {
   "cell_type": "code",
   "execution_count": 55,
   "metadata": {},
   "outputs": [],
   "source": [
    "def find_events(series):\n",
    "    \"\"\"Records an event (1) when `series` changes value.\"\"\"\n",
    "    events = []\n",
    "    for i in range(1, len(series)):\n",
    "        if (series[i] < np.floor(series[i-1])+1 and \n",
    "            series[i] > np.ceil(series[i-1])-1):\n",
    "            # if both true, no crossing\n",
    "            events.append(0)\n",
    "        else:\n",
    "            events.append(1)\n",
    "    np.append(events, 0)\n",
    "    return events"
   ]
  },
  {
   "cell_type": "code",
   "execution_count": 56,
   "metadata": {},
   "outputs": [],
   "source": [
    "def make_trajectory(events):\n",
    "    \"\"\"Constructs diffusion trajectory from events.\"\"\"\n",
    "    trajectory = np.cumsum(events)\n",
    "    return trajectory"
   ]
  },
  {
   "cell_type": "code",
   "execution_count": 57,
   "metadata": {},
   "outputs": [],
   "source": [
    "def entropy(trajectory):\n",
    "    \"\"\"\n",
    "    Calculates the Shannon Entropy of the diffusion trajectory.\n",
    "\n",
    "    Generates a range of window lengths L. Steps each one along \n",
    "    'trajectory' and computes the displacement of 'trajectory' \n",
    "    over each window position. Bins these displacements, and divides \n",
    "    by the sum of all bins to make the probability distribution 'p'. \n",
    "    Puts 'p' into the equation for Shannon Entropy to get s(L).\n",
    "    Repeats for all L in range 'window_lengths'.\n",
    "\n",
    "    Parameters\n",
    "    ----------\n",
    "    trajectory : array_like\n",
    "        Diffusion trajectory. Constructed by make_trajectory.\n",
    "\n",
    "    Returns\n",
    "    ----------\n",
    "    s : ndarray\n",
    "        Shannon Entropy values, S(L).\n",
    "    window_lengths : ndarray\n",
    "        Window lengths, L. \n",
    "\n",
    "    Notes\n",
    "    ----------\n",
    "    'tqdm(...)' makes the progress bar appear.\n",
    "    \"\"\"\n",
    "    S = []\n",
    "    window_lengths = np.arange(1, int(0.25*len(trajectory)), 1)\n",
    "    for L in tqdm(window_lengths):\n",
    "        window_starts = np.arange(0, len(trajectory)-L, 1)\n",
    "        window_ends = np.arange(L, len(trajectory), 1)\n",
    "        displacements = trajectory[window_ends] - trajectory[window_starts]\n",
    "        counts, bin_edge = np.histogram(displacements, bins='doane')\n",
    "        counts = np.array(counts[counts != 0])\n",
    "        binsize = bin_edge[1] - bin_edge[0]\n",
    "        P = counts / sum(counts)\n",
    "        S.append(-sum(P*np.log(P)) + np.log(binsize))\n",
    "    return S, window_lengths"
   ]
  },
  {
   "cell_type": "code",
   "execution_count": 58,
   "metadata": {},
   "outputs": [],
   "source": [
    "def no_stripe_entropy(trajectory):\n",
    "    \"\"\"\n",
    "    Calculates the Shannon Entropy of the diffusion trajectory.\n",
    "\n",
    "    Generates a range of window lengths L. Steps each one along \n",
    "    'trajectory' and computes the displacement of 'trajectory' \n",
    "    over each window position. Bins these displacements, and divides \n",
    "    by the sum of all bins to make the probability distribution 'p'. \n",
    "    Puts 'p' into the equation for Shannon Entropy to get s(L).\n",
    "    Repeats for all L in range 'window_lengths'.\n",
    "\n",
    "    Parameters\n",
    "    ----------\n",
    "    trajectory : array_like\n",
    "        Diffusion trajectory. FOR NO STRIPES JUST PASS THE DATA SERIES.\n",
    "\n",
    "    Returns\n",
    "    ----------\n",
    "    S : ndarray\n",
    "        Shannon Entropy values, S(L).\n",
    "    window_lengths : ndarray\n",
    "        Window lengths, L.\n",
    "\n",
    "    Notes\n",
    "    ----------\n",
    "    `tqdm()` makes the progress bar appear.\n",
    "    \"\"\"\n",
    "    window_lengths = np.arange(1, int(0.25*len(trajectory)), 1)\n",
    "    S = []\n",
    "    for L in tqdm(window_lengths):\n",
    "        window_starts = np.arange(0, len(trajectory)-L, 1)\n",
    "        window_ends = np.arange(L, len(trajectory), 1)\n",
    "        traj = trajectory[window_starts] - trajectory[window_ends]\n",
    "        counts, bin_edge = np.histogram(traj, bins='doane')  # doane least bad for nongaussian\n",
    "        counts = np.array(counts[counts != 0])\n",
    "        binsize = bin_edge[1] - bin_edge[0]\n",
    "        P = counts / sum(counts)\n",
    "        S.append(-sum(P*np.log(P)) + np.log(binsize))\n",
    "    return S, window_lengths"
   ]
  },
  {
   "cell_type": "code",
   "execution_count": 59,
   "metadata": {},
   "outputs": [],
   "source": [
    "def get_scaling(S, L, start, stop):\n",
    "    \"\"\"\n",
    "    Calculates scaling.\n",
    "    \n",
    "    Calculates the scaling of the time-series by performing a \n",
    "    least-squares linear fit over S(l) and ln(l).\n",
    "\n",
    "    Parameters\n",
    "    ----------\n",
    "    s : array_like\n",
    "        Shannon Entropy values. \n",
    "    L : array_like\n",
    "        Window Lengths. \n",
    "    start : int\n",
    "        Index at which to start the fit slice.\n",
    "    stop : int\n",
    "        Index at which to stop the fit slice.\n",
    "\n",
    "    Returns\n",
    "    ----------\n",
    "    L_slice : ndarray \n",
    "        The slice of window lengths L.\n",
    "    coefficients : ndarray\n",
    "        Slope and intercept of the fit. \n",
    "\n",
    "    Notes\n",
    "    ----------\n",
    "    Least-squares linear fits on log scale data have issues, \n",
    "    see doi:10.1371/journal.pone.0085777\n",
    "    Making a version that uses the powerlaw package instead \n",
    "    would be better...\n",
    "    \"\"\"\n",
    "    S_slice = S[start:stop]\n",
    "    L_slice = L[start:stop]\n",
    "    coefficients = np.polyfit(np.log(L_slice), S_slice, 1)\n",
    "    return L_slice, coefficients"
   ]
  },
  {
   "cell_type": "code",
   "execution_count": 60,
   "metadata": {},
   "outputs": [],
   "source": [
    "def get_mu(delta):\n",
    "    \"\"\"\n",
    "    Calculates the mu.\n",
    "\n",
    "    Parameters\n",
    "    ----------\n",
    "    delta : float\n",
    "        Scaling of the time-series process. \n",
    "\n",
    "    Returns\n",
    "    ----------\n",
    "    mu : float\n",
    "        Complexity parameter. Powerlaw index for inter-event \n",
    "        time distribution.\n",
    "    Notes\n",
    "    ----------\n",
    "    mu is calculated by both rules. later both are plotted\n",
    "    against the line relating delta and mu, to hopefully\n",
    "    let users graphically determine the correct mu.\n",
    "    \"\"\"\n",
    "    mu1 = 1 + delta\n",
    "    mu2 = 1 + (1 / delta)\n",
    "    return mu1, mu2"
   ]
  },
  {
   "cell_type": "code",
   "execution_count": 61,
   "metadata": {},
   "outputs": [],
   "source": [
    "def plot_results(L, S, x_interval, slope, y_intercept, mu):\n",
    "    \"\"\"testing a plotting function\"\"\"\n",
    "    fig, ax = plt.subplots()\n",
    "    ax.plot(L, S, linestyle='', marker='.')\n",
    "    ax.plot(x_interval, slope * np.log(x_interval) + y_intercept, color='k',\n",
    "            label='$\\delta = $'+str(np.round(slope, 2)))\n",
    "    ax.plot([], [], linestyle='',label='$\\mu = $'+str(np.round(mu, 2)))\n",
    "    return ax"
   ]
  },
  {
   "cell_type": "code",
   "execution_count": 62,
   "metadata": {},
   "outputs": [],
   "source": [
    "def plot_mu_candidates(delta, mu1, mu2):\n",
    "    x1 = np.linspace(1, 2, 100)\n",
    "    x2 = np.linspace(2, 3, 100)\n",
    "    x3 = np.linspace(3, 4, 100)\n",
    "    y1 = x1 - 1\n",
    "    y2 = 1 / (x2 - 1)\n",
    "    y3 = np.full(100, 0.5)\n",
    "\n",
    "    fig, ax = plt.subplots(figsize=(5, 4))\n",
    "    ax.plot(x1, y1, color='k')\n",
    "    ax.plot(x2, y2, color='k')\n",
    "    ax.plot(x3, y3, color='k')\n",
    "    ax.plot(mu1, delta,\n",
    "            marker='o',\n",
    "            label='$\\\\mu$ = '+str(np.round(mu1, 2)))\n",
    "    ax.plot(mu2, delta,\n",
    "            marker='o',\n",
    "            label='$\\\\mu$ = '+str(np.round(mu2, 2)))  \n",
    "    ax.set_xticks(ticks=np.linspace(1, 4, 7))\n",
    "    ax.set_yticks(ticks=np.linspace(0, 1, 5))\n",
    "    ax.set_xlabel('$\\\\mu$')\n",
    "    ax.set_ylabel('$\\\\delta$')\n",
    "    ax.legend(loc=0)\n",
    "    ax.grid(True)\n",
    "    sns.despine(left=True, bottom=True)\n",
    "    plt.show(fig)\n",
    "    return None"
   ]
  },
  {
   "cell_type": "code",
   "execution_count": 63,
   "metadata": {},
   "outputs": [],
   "source": [
    "def dea_no_stripes(data, start, stop):\n",
    "    \"\"\"\n",
    "    Applies DEA without the stripes refinement.\n",
    "\n",
    "    Original DEA. Takes the original time series as the diffusion \n",
    "    trajectory.\n",
    "\n",
    "    Parameters\n",
    "    ----------\n",
    "    data : array_like\n",
    "        Time-series to be analysed.\n",
    "    start : int\n",
    "        Array index at which to start linear fit.\n",
    "    stop : int \n",
    "        Array index at which to stop linear fit.\n",
    "\n",
    "    Returns\n",
    "    ----------\n",
    "    figure \n",
    "        A figure plotting S(l) vs. ln(l), overlaid with the fit \n",
    "        line, labelled with the scaling and mu values.\n",
    "    \"\"\"\n",
    "    S, L = no_stripe_entropy(data)\n",
    "    fit = get_scaling(S, L, start, stop)\n",
    "    mu = get_mu(fit[1][0])\n",
    "\n",
    "    fig, ax = plt.subplots(figsize=(5, 4))\n",
    "    ax.plot(L, S, linestyle='', marker='.', alpha=0.5)\n",
    "    ax.plot(fit[0], fit[1][0] * np.log(fit[0]) + fit[1][1], color='k',\n",
    "             label='$\\delta = {}$'.format(np.round(fit[1][0], 2)))\n",
    "    ax.plot([], [], linestyle='', \n",
    "             label='$\\mu = {}$'.format(np.round(mu, 2)))\n",
    "    ax.xscale('log')\n",
    "    ax.xlabel('$ln(l)$')\n",
    "    ax.ylabel('$S(l)$')\n",
    "    ax.legend(loc=0)\n",
    "    ax.grid(False)\n",
    "    ax.tick_params(which=\"major\", bottom=True, left=True, length=5,\n",
    "                   color=\"#cccccc\")\n",
    "    ax.tick_params(which=\"minor\", bottom=True, left=True, length=3,\n",
    "                   color=\"#cccccc\")\n",
    "    sns.despine(trim=True)\n",
    "    plt.show(fig)\n",
    "    return None"
   ]
  },
  {
   "cell_type": "code",
   "execution_count": 64,
   "metadata": {},
   "outputs": [],
   "source": [
    "def dea_with_stripes(data, stripes, start, stop, data_plot):\n",
    "    \"\"\"\n",
    "    Applies DEA with the stripes refinement.\n",
    "\n",
    "    Runs a sequence of functions to apply stripes and then \n",
    "    perform DEA on the data series. \n",
    "\n",
    "    Parameters\n",
    "    ----------\n",
    "    data : array_like\n",
    "        Time-series to be analysed.\n",
    "    stripes : int\n",
    "        Number of stripes to be applied to the data.\n",
    "    start : int\n",
    "        Array index at which to start linear fit.\n",
    "    stop : int \n",
    "        Array index at which to stop linear fit.\n",
    "    data_plot : bool\n",
    "        If True, show data plot with overlaid stripes.\n",
    "\n",
    "    Returns\n",
    "    ----------\n",
    "    fig : figure \n",
    "        A figure plotting S(l) vs. ln(l), overlaid with the fit \n",
    "        line, labelled with the scaling and mu values.\n",
    "    \"\"\"\n",
    "    rounded_data = apply_stripes(data, stripes, data_plot)\n",
    "    event_array = find_events(rounded_data)\n",
    "    diffusion_trajectory = make_trajectory(event_array)\n",
    "    s, L = entropy(diffusion_trajectory)\n",
    "    fit = get_scaling(s, L, start, stop)\n",
    "    mu = get_mu(fit[1][0])\n",
    "\n",
    "    fig, ax = plt.subplots(figsize=(5, 4))\n",
    "    ax.plot(L, s, linestyle='', marker='.', alpha=0.5)\n",
    "    ax.plot(fit[0], fit[1][0] * np.log(fit[0]) + fit[1][1], color='k',\n",
    "             label='$\\delta = $'+str(np.round(fit[1][0], 2)))\n",
    "    ax.set_xscale('log')\n",
    "    ax.set_xlabel('$ln(L)$')\n",
    "    ax.set_ylabel('$S(L)$')\n",
    "    ax.legend(loc=0)\n",
    "    ax.grid(False)\n",
    "    ax.tick_params(which=\"major\", bottom=True, left=True, length=5,\n",
    "                   color=\"#cccccc\")\n",
    "    ax.tick_params(which=\"minor\", bottom=True, left=True, length=3,\n",
    "                   color=\"#cccccc\")\n",
    "    sns.despine(trim=True)\n",
    "    plt.show(fig)\n",
    "\n",
    "    plot_mu_candidates(fit[1][0], mu[0], mu[1])\n",
    "    return None"
   ]
  },
  {
   "cell_type": "markdown",
   "metadata": {},
   "source": [
    "## Work Cell\n",
    "---\n",
    "\n",
    "Everything you need to work with is in this cell.  \n",
    "\n",
    "### Running  \n",
    " - Load your data into the `data` variable. Numpy arrays or Pandas DataFrame columns will work.  \n",
    " - Choose the number of stripes to apply, and the interval (slice) over which to fit.  \n",
    " - Run!  \n",
    " - Adjust `number_of_stripes` and slicing indexes, `fit_start` and `fit_stop`, as necessary.  \n",
    "\n",
    "### Output  \n",
    " - A progress bar will display progress and time elapsed/remaining.  \n",
    " - On completion, two figures will be drawn with the results:\n",
    "   - One will be of $S(l)$ vs. $ln(l)$, with the slope fit overlaid. This is the main result.\n",
    "   - The other will be a display of the two possible values for $\\mu$, drawn on a graph of the analytical behavior of $\\delta$ vs. $\\mu$. This is to help you determine which $\\mu$ value is right.\n",
    " - Interpretation of results has its own section, below.  \n",
    "\n",
    "### Choosing number of stripes  \n",
    " - Run a few initial tests with different values. e.g. 10, 50, 100.  \n",
    " - If there is significant disagreement in the scalings measured, vary about those trial numbers.  \n",
    " - The correct number of stripes to use is that number such that when varied up or down a little, the scaling does not change.\n",
    " - Rigorous rules for this are still being developed...  \n",
    "\n",
    "### Choosing fit interval  \n",
    " - In the result figure, if the results are good, there will be a region in the loglog figure that appears linear. You want the fit interval to line up with this region.  \n",
    " - $S(l)$ is logged in calculation, $l$ is logged by the scale of the plot. The fitting function accounts for this.  "
   ]
  },
  {
   "cell_type": "code",
   "execution_count": 65,
   "metadata": {
    "tags": []
   },
   "outputs": [
    {
     "name": "stderr",
     "output_type": "stream",
     "text": [
      "100%|██████████| 2498/2498 [00:03<00:00, 693.37it/s]\n"
     ]
    },
    {
     "data": {
      "image/png": "[encoded data removed]",
      "text/plain": [
       "<Figure size 360x288 with 1 Axes>"
      ]
     },
     "metadata": {},
     "output_type": "display_data"
    },
    {
     "data": {
      "image/png": "[encoded data removed]",
      "text/plain": [
       "<Figure size 360x288 with 1 Axes>"
      ]
     },
     "metadata": {},
     "output_type": "display_data"
    }
   ],
   "source": [
    "### ----WORK HERE---- ###\n",
    "data = sample_data(10000)\n",
    "number_of_stripes = 40  # needs to be at least 2\n",
    "fit_start = 30\n",
    "fit_stop = 500\n",
    "show_data_plot = False  # make True to see plot of data with stripes\n",
    "\n",
    "result = dea_with_stripes(data,\n",
    "                          number_of_stripes,\n",
    "                          fit_start,\n",
    "                          fit_stop,\n",
    "                          show_data_plot)"
   ]
  },
  {
   "cell_type": "markdown",
   "metadata": {},
   "source": [
    "### Without stripes"
   ]
  },
  {
   "cell_type": "code",
   "execution_count": 66,
   "metadata": {
    "tags": []
   },
   "outputs": [],
   "source": [
    "# no_stripe_result = dea_no_stripes(data, start=50, stop=500)\n",
    "# plt.show()"
   ]
  },
  {
   "cell_type": "markdown",
   "metadata": {},
   "source": [
    "## Interpreting Results\n",
    "---\n",
    "\n",
    "### Basics  \n",
    " - $\\delta$ is the measured scaling of the time-series process.  \n",
    " - $\\mu$ is a complexity index, defined as the power for the inter-event time distribution $1/\\tau^{\\mu}$ ($\\tau$ being inter-event time).  \n",
    "\n",
    "### Baselines  \n",
    " - For a totally random process, DEA yields $\\delta = 0.5.$  \n",
    " - The closer $\\delta$ is to 1, and the closer $\\mu$ is to 2, the more complex the data-series is. Those are the critical values of $\\delta$ and $\\mu$.  \n",
    " - If $\\delta < 0.5$, this usually means the time-series is not complex. At least, not in this sense. \n",
    "\n",
    "### Determining $\\mu$  \n",
    " - Two ways of calculating $\\mu$ are employed:  \n",
    "   - For $1 < \\mu < 2$: $\\mu = 1 + \\delta$.  \n",
    "   - For $2 < \\mu < 3$: $\\mu = 1 + 1/\\delta$.  \n",
    " - The correct calculation for $\\mu$ varies. As rigorous rules for determining which is correct in what situation have yet to be laid down, both candidates are calculated and plotted so that the user may compare them. Typically the correct value for $\\mu$ will lie along the line, as the line represents the theoretical relationship.\n",
    " - If you already have an expectation for what range $\\mu$ should be in, e.g. from theoretical arguments, use that.\n",
    " - The theoretical justifications for the two methods of deriving $\\mu$ from the scaling $\\delta$ are given in Section 3.2 of Reference 1 and Section 3.1-3.2 of Reference 3."
   ]
  },
  {
   "cell_type": "markdown",
   "metadata": {},
   "source": [
    "## Advanced use\n",
    "---\n",
    "\n",
    "\n",
    "### Speed and runtime\n",
    "In the function `entropy()` the range of window lengths $l$ is defined such that each is 1 larger than the previous:  \n",
    "        \n",
    "        window_lengths = np.arange(1, int(0.25*len(trajectory)), 1)  \n",
    "\n",
    "This can make the program take a long time to run if you give it a long time-series (e.g. 10000 timesteps takes ~5 seconds). If you want to speed up the runtime, you can increase the step size for the range, e.g.:\n",
    "\n",
    "        window_lengths = np.arange(1, int(0.25*len(trajectory)), 10)  \n",
    "\n",
    "This will still give good results, for long time-series, but can greatly speed up runtime.\n",
    "\n",
    "Doing this also means you will have fewer values of $S(l)$ and $ln(l)$ to work with though, so be mindful.\n",
    "\n",
    "\n",
    "### Maximum window length\n",
    "In the function `entropy()` the range of window lengths ends at 0.25 times the length of the diffusion trajectory:\n",
    "\n",
    "        window_lengths = np.arange(1, int(0.25*len(trajectory)), 10)  \n",
    "\n",
    "You can increase further if you want, but there is usually no need. For longer window lengths $l$, and especially for $l$ longer than `0.5*len(trajectory)`, $S(l)$ quickly starts to decay and doesn't give anything useful. "
   ]
  },
  {
   "cell_type": "markdown",
   "metadata": {},
   "source": [
    "## References\n",
    "---\n",
    " 1. Culbreth, G., West, B. J., & Grigolini, P. (2019). Entropic approach to the detection of crucial events. *Entropy*, *21*(2), 178. [doi:10.3390/e21020178](https://doi.org/10.3390/e21020178)\n",
    "    - This paper introduced the stripes and describes their role with figure examples.\n",
    "    - Note: this paper used $\\eta$ to denote scaling, rather than $\\delta$.\n",
    " 2. Scafetta, N., & Grigolini, P. (2002). Scaling detection in time series: diffusion entropy analysis. *Physical Review E*, *66*(3), 036130. [doi:10.1103/PhysRevE.66.036130](https://doi.org/10.1103/PhysRevE.66.036130)\n",
    "    - The actual algorithm for DEA is detailed (mostly only in words) in Section IV.  \n",
    " 3. Grigolini, P., Palatella, L., & Raffaelli, G. (2001). Asymmetric anomalous diffusion: an efficient way to detect memory in time series. *Fractals*, *9*(04), 439-449. [doi:10.1142/S0218348X01000865](https://doi.org/10.1142/S0218348X01000865)\n",
    "    - This paper introduced always using positive steps when constructing the event array, rather than the sign of the step at that time index."
   ]
  }
 ],
 "metadata": {
  "interpreter": {
   "hash": "a6d37ef22e159a6af38b2a2fd504aec87c21a0443217d8cb2ce6b966a5400236"
  },
  "kernelspec": {
   "display_name": "Python 3.8.8 64-bit (conda)",
   "name": "python3"
  },
  "language_info": {
   "codemirror_mode": {
    "name": "ipython",
    "version": 3
   },
   "file_extension": ".py",
   "mimetype": "text/x-python",
   "name": "python",
   "nbconvert_exporter": "python",
   "pygments_lexer": "ipython3",
   "version": "3.7.12"
  },
  "orig_nbformat": 2
 },
 "nbformat": 4,
 "nbformat_minor": 2
}
